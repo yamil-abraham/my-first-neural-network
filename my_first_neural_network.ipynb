{
  "nbformat": 4,
  "nbformat_minor": 0,
  "metadata": {
    "colab": {
      "name": "my first neural network",
      "provenance": [],
      "mount_file_id": "1g94bX8s8sByg8h9Htd_EuYnkIi6XhEqC",
      "authorship_tag": "ABX9TyOngVKnpwTRhfgIoIh8yr6K",
      "include_colab_link": true
    },
    "kernelspec": {
      "name": "python3",
      "display_name": "Python 3"
    },
    "language_info": {
      "name": "python"
    }
  },
  "cells": [
    {
      "cell_type": "markdown",
      "metadata": {
        "id": "view-in-github",
        "colab_type": "text"
      },
      "source": [
        "<a href=\"https://colab.research.google.com/github/eyamilabraham/first-steps-tensorflow/blob/main/my_first_neural_network.ipynb\" target=\"_parent\"><img src=\"https://colab.research.google.com/assets/colab-badge.svg\" alt=\"Open In Colab\"/></a>"
      ]
    },
    {
      "cell_type": "code",
      "execution_count": 10,
      "metadata": {
        "id": "qi2T034KZAzw"
      },
      "outputs": [],
      "source": [
        "import tensorflow as tf\n",
        "import numpy as np"
      ]
    },
    {
      "cell_type": "code",
      "source": [
        "celsius = np.array([-40, -10, 0, 8, 15, 22, 38], dtype=float)\n",
        "fahrenheit = np.array([-40, 14, 32, 46, 59, 72, 100], dtype=float)"
      ],
      "metadata": {
        "id": "hPTICxgmZZhO"
      },
      "execution_count": 12,
      "outputs": []
    },
    {
      "cell_type": "code",
      "source": [
        "#layer = tf.keras.layers.Dense(units=1, input_shape=[1])\n",
        "#model = tf.keras.Sequential([layer])\n",
        "\n",
        "hidden1 = tf.keras.layers.Dense(units=3, input_shape=[1])\n",
        "hidden2 = tf.keras.layers.Dense(units=3)\n",
        "output = tf.keras.layers.Dense(units=1)\n",
        "model = tf.keras.Sequential([hidden1, hidden2, output])"
      ],
      "metadata": {
        "id": "tIlp8QNaaDg0"
      },
      "execution_count": 13,
      "outputs": []
    },
    {
      "cell_type": "code",
      "source": [
        "model.compile(\n",
        "    optimizer = tf.keras.optimizers.Adam(0.1),\n",
        "    loss='mean_squared_error'\n",
        ")"
      ],
      "metadata": {
        "id": "cSJrcyazaV1y"
      },
      "execution_count": 14,
      "outputs": []
    },
    {
      "cell_type": "code",
      "source": [
        "print(\"Starting training\")\n",
        "history = model.fit(celsius, fahrenheit, epochs=1000, verbose=False)\n",
        "print(\"Trained Model!\")"
      ],
      "metadata": {
        "colab": {
          "base_uri": "https://localhost:8080/"
        },
        "id": "4qlri90Manry",
        "outputId": "ca125b9c-5fa5-424b-aace-96f922150a12"
      },
      "execution_count": 15,
      "outputs": [
        {
          "output_type": "stream",
          "name": "stdout",
          "text": [
            "Starting training\n",
            "Trained Model!\n"
          ]
        }
      ]
    },
    {
      "cell_type": "code",
      "source": [
        "import matplotlib.pyplot as plt\n",
        "plt.xlabel(\"# Epoc\")\n",
        "plt.ylabel(\"Loss Magnitude\")\n",
        "plt.plot(history.history[\"loss\"])"
      ],
      "metadata": {
        "colab": {
          "base_uri": "https://localhost:8080/",
          "height": 296
        },
        "id": "zM_AbenfelQa",
        "outputId": "dbb5458a-c55e-4dd8-e334-6c5e8937bc7e"
      },
      "execution_count": 16,
      "outputs": [
        {
          "output_type": "execute_result",
          "data": {
            "text/plain": [
              "[<matplotlib.lines.Line2D at 0x7f33aa9b1dd0>]"
            ]
          },
          "metadata": {},
          "execution_count": 16
        },
        {
          "output_type": "display_data",
          "data": {
            "image/png": "[encoded data removed]",
            "text/plain": [
              "<Figure size 432x288 with 1 Axes>"
            ]
          },
          "metadata": {
            "needs_background": "light"
          }
        }
      ]
    },
    {
      "cell_type": "code",
      "source": [
        "print(\"Let do a prediction!\")\n",
        "result = model.predict([100.0])\n",
        "print(\"The result is \" + str(result) + \"fahrenheit!\")"
      ],
      "metadata": {
        "colab": {
          "base_uri": "https://localhost:8080/"
        },
        "id": "APfWASsHfPLy",
        "outputId": "13cc1893-31fa-4e55-8e95-035e13fb99b1"
      },
      "execution_count": 17,
      "outputs": [
        {
          "output_type": "stream",
          "name": "stdout",
          "text": [
            "Let do a prediction!\n",
            "The result is [[211.74744]]fahrenheit!\n"
          ]
        }
      ]
    },
    {
      "cell_type": "code",
      "source": [
        "print(\"Internal variables of the model\")\n",
        "#print(layer.get_weights())\n",
        "print(hidden1.get_weights())\n",
        "print(hidden2.get_weights())\n",
        "print(output.get_weights())"
      ],
      "metadata": {
        "colab": {
          "base_uri": "https://localhost:8080/"
        },
        "id": "6CyDgwVzfuxQ",
        "outputId": "e0ee46a7-f53e-49fd-ea34-f3d37291959b"
      },
      "execution_count": 18,
      "outputs": [
        {
          "output_type": "stream",
          "name": "stdout",
          "text": [
            "Internal variables of the model\n",
            "[array([[-0.16695374,  0.09275899,  0.6415478 ]], dtype=float32), array([-3.7474704, -2.9153204,  3.4352193], dtype=float32)]\n",
            "[array([[ 0.23772152,  1.3215871 , -0.2251454 ],\n",
            "       [ 0.47470757,  0.6939413 ,  0.62523735],\n",
            "       [-0.6344202 , -1.3416648 ,  0.01081188]], dtype=float32), array([-3.7821214, -3.7049992, -1.5366195], dtype=float32)]\n",
            "[array([[-0.6998725 ],\n",
            "       [-1.4899373 ],\n",
            "       [ 0.00822417]], dtype=float32), array([3.4280496], dtype=float32)]\n"
          ]
        }
      ]
    }
  ]
}